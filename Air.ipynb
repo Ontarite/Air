{
  "nbformat": 4,
  "nbformat_minor": 0,
  "metadata": {
    "colab": {
      "provenance": []
    },
    "kernelspec": {
      "name": "python3",
      "display_name": "Python 3"
    },
    "language_info": {
      "name": "python"
    }
  },
  "cells": [
    {
      "cell_type": "code",
      "execution_count": null,
      "metadata": {
        "id": "78d09C1GudZS"
      },
      "outputs": [],
      "source": [
        "import pandas, warnings\n",
        "\n",
        "import matplotlib.pyplot as plt\n",
        "\n",
        "warnings.filterwarnings(\"ignore\")\n",
        "\n",
        "plt.style.use(\"seaborn-whitegrid\")\n",
        "\n",
        "from statsmodels.tools.sm_exceptions import ValueWarning\n",
        "\n",
        "warnings.simplefilter('ignore', ValueWarning)"
      ]
    }
  ]
}